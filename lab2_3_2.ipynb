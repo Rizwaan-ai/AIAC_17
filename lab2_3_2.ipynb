{
  "nbformat": 4,
  "nbformat_minor": 0,
  "metadata": {
    "colab": {
      "provenance": [],
      "authorship_tag": "ABX9TyPO8vy7TQf9C7+HCIbkMl07",
      "include_colab_link": true
    },
    "kernelspec": {
      "name": "python3",
      "display_name": "Python 3"
    },
    "language_info": {
      "name": "python"
    }
  },
  "cells": [
    {
      "cell_type": "markdown",
      "metadata": {
        "id": "view-in-github",
        "colab_type": "text"
      },
      "source": [
        "<a href=\"https://colab.research.google.com/github/Rizwaan-ai/AIAC_17/blob/main/lab2_3_2.ipynb\" target=\"_parent\"><img src=\"https://colab.research.google.com/assets/colab-badge.svg\" alt=\"Open In Colab\"/></a>"
      ]
    },
    {
      "cell_type": "markdown",
      "source": [
        "Finding palindrome using Gemini\n"
      ],
      "metadata": {
        "id": "HJ_hOldIj-Bp"
      }
    },
    {
      "cell_type": "code",
      "execution_count": 1,
      "metadata": {
        "colab": {
          "base_uri": "https://localhost:8080/"
        },
        "id": "uGKVGQMMj4Oj",
        "outputId": "753d990e-ef33-45e7-db15-bda8eb9f2d79"
      },
      "outputs": [
        {
          "output_type": "stream",
          "name": "stdout",
          "text": [
            "Enter a string: PLPLP\n",
            "'PLPLP' is a palindrome.\n"
          ]
        }
      ],
      "source": [
        "def is_palindrome(text):\n",
        "    \"\"\"Checks if a string is a palindrome.\"\"\"\n",
        "    text = ''.join(filter(str.isalnum, text)).lower()\n",
        "    return text == text[::-1]\n",
        "\n",
        "user_input = input(\"Enter a string: \")\n",
        "\n",
        "if is_palindrome(user_input):-\n",
        "    print(f\"'{user_input}' is a palindrome.\")\n",
        "else:\n",
        "    print(f\"'{user_input}' is not a palindrome.\")"
      ]
    }
  ]
}