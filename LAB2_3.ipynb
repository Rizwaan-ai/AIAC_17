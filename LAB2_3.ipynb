{
  "nbformat": 4,
  "nbformat_minor": 0,
  "metadata": {
    "colab": {
      "provenance": [],
      "authorship_tag": "ABX9TyP/qnGttSqumVG0ZJbyP8fX",
      "include_colab_link": true
    },
    "kernelspec": {
      "name": "python3",
      "display_name": "Python 3"
    },
    "language_info": {
      "name": "python"
    }
  },
  "cells": [
    {
      "cell_type": "markdown",
      "metadata": {
        "id": "view-in-github",
        "colab_type": "text"
      },
      "source": [
        "<a href=\"https://colab.research.google.com/github/Rizwaan-ai/AIAC_17/blob/main/LAB2_3.ipynb\" target=\"_parent\"><img src=\"https://colab.research.google.com/assets/colab-badge.svg\" alt=\"Open In Colab\"/></a>"
      ]
    },
    {
      "cell_type": "markdown",
      "source": [
        "Use Google Gemini in Colab to write a function that reads a CSV file and calculates\n",
        "mean, min, max"
      ],
      "metadata": {
        "id": "CvunKYWdcH37"
      }
    },
    {
      "cell_type": "code",
      "metadata": {
        "colab": {
          "base_uri": "https://localhost:8080/"
        },
        "id": "ce474277",
        "outputId": "ca946333-b7bb-43fb-8897-26dc5766bc2a"
      },
      "source": [
        "import pandas as pd\n",
        "\n",
        "file_path = '/content/lab2.csv.xlsx'\n",
        "\n",
        "try:\n",
        "  # Read the Excel file into a pandas DataFrame\n",
        "  df = pd.read_excel(file_path)\n",
        "\n",
        "  # Calculate mean, min, and max for numerical columns\n",
        "  # .mean(), .min(), and .max() will automatically handle non-numerical columns by ignoring them\n",
        "  mean_values = df.mean()\n",
        "  min_values = df.min()\n",
        "  max_values = df.max()\n",
        "\n",
        "  # Display the results\n",
        "  print(\"Mean values:\")\n",
        "  print(mean_values)\n",
        "\n",
        "  print(\"\\nMinimum values:\")\n",
        "  print(min_values)\n",
        "\n",
        "  print(\"\\nMaximum values:\")\n",
        "  print(max_values)\n",
        "\n",
        "except FileNotFoundError:\n",
        "  print(f\"Error: The file '{file_path}' was not found.\")\n",
        "except Exception as e:\n",
        "  print(f\"An error occurred: {e}\")"
      ],
      "execution_count": 12,
      "outputs": [
        {
          "output_type": "stream",
          "name": "stdout",
          "text": [
            "Mean values:\n",
            "12    50.05\n",
            "dtype: float64\n",
            "\n",
            "Minimum values:\n",
            "12    9\n",
            "dtype: int64\n",
            "\n",
            "Maximum values:\n",
            "12    90\n",
            "dtype: int64\n"
          ]
        }
      ]
    },
    {
      "cell_type": "code",
      "source": [],
      "metadata": {
        "id": "uzj_pEE0jzFF"
      },
      "execution_count": null,
      "outputs": []
    }
  ]
}