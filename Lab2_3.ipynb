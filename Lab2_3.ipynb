{
  "nbformat": 4,
  "nbformat_minor": 0,
  "metadata": {
    "colab": {
      "provenance": [],
      "authorship_tag": "ABX9TyN/Z839ZHRKbwV38XkarAfX",
      "include_colab_link": true
    },
    "kernelspec": {
      "name": "python3",
      "display_name": "Python 3"
    },
    "language_info": {
      "name": "python"
    }
  },
  "cells": [
    {
      "cell_type": "markdown",
      "metadata": {
        "id": "view-in-github",
        "colab_type": "text"
      },
      "source": [
        "<a href=\"https://colab.research.google.com/github/Rizwaan-ai/AIAC_17/blob/main/Lab2_3.ipynb\" target=\"_parent\"><img src=\"https://colab.research.google.com/assets/colab-badge.svg\" alt=\"Open In Colab\"/></a>"
      ]
    },
    {
      "cell_type": "markdown",
      "source": [
        "●\tStudent need to write code to calculate sum of add number and even numbers in the list"
      ],
      "metadata": {
        "id": "hApRMt1z8vKb"
      }
    },
    {
      "cell_type": "code",
      "execution_count": null,
      "metadata": {
        "id": "jU1aWAlx8eIk"
      },
      "outputs": [],
      "source": [
        "# Create a list of numbers\n",
        "numbers = [1, 2, 3, 4, 5, 6, 7, 8, 9, 10]\n",
        "\n",
        "# Initialize variables to store the sum of odd and even numbers\n",
        "sum_odd = 0\n",
        "sum_even = 0\n",
        "\n",
        "# Iterate through the list\n",
        "for number in numbers:\n",
        "  # Check if the number is odd\n",
        "  if number % 2 != 0:\n",
        "    sum_odd += number\n",
        "  # Check if the number is even\n",
        "  else:\n",
        "    sum_even += number\n",
        "\n",
        "# Print the results\n",
        "print(\"Sum of odd numbers:\", sum_odd)\n",
        "print(\"Sum of even numbers:\", sum_even)"
      ]
    }
  ]
}