{
  "nbformat": 4,
  "nbformat_minor": 0,
  "metadata": {
    "colab": {
      "provenance": [],
      "authorship_tag": "ABX9TyPFvHTLm2OtNNmX9CzX5WKt",
      "include_colab_link": true
    },
    "kernelspec": {
      "name": "python3",
      "display_name": "Python 3"
    },
    "language_info": {
      "name": "python"
    }
  },
  "cells": [
    {
      "cell_type": "markdown",
      "metadata": {
        "id": "view-in-github",
        "colab_type": "text"
      },
      "source": [
        "<a href=\"https://colab.research.google.com/github/Rizwaan-ai/AIAC_17/blob/main/Lab2_3.ipynb\" target=\"_parent\"><img src=\"https://colab.research.google.com/assets/colab-badge.svg\" alt=\"Open In Colab\"/></a>"
      ]
    },
    {
      "cell_type": "markdown",
      "source": [
        "●\tUse Google Gemini in Colab to write a function that reads a CSV file and calculates mean, min, max."
      ],
      "metadata": {
        "id": "_mL1DBtG29t6"
      }
    },
    {
      "cell_type": "code",
      "source": [],
      "metadata": {
        "id": "TrfD9v2X3nP_"
      },
      "execution_count": null,
      "outputs": []
    },
    {
      "cell_type": "code",
      "metadata": {
        "colab": {
          "base_uri": "https://localhost:8080/"
        },
        "id": "9b02a026",
        "outputId": "1603e81e-a6d2-457c-fbc6-ec466ee865b7"
      },
      "source": [
        "import pandas as pd\n",
        "\n",
        "def analyze_csv(file_path):\n",
        "  \"\"\"Reads a CSV file and calculates mean, min, and max for each column.\n",
        "\n",
        "  Args:\n",
        "    file_path: The path to the CSV file.\n",
        "\n",
        "  Returns:\n",
        "    A dictionary containing the mean, min, and max for each column.\n",
        "  \"\"\"\n",
        "  try:\n",
        "    df = pd.read_csv(file_path)\n",
        "    analysis_results = {}\n",
        "    for column in df.columns:\n",
        "      # Check if the column contains numeric data before calculating statistics\n",
        "      if pd.api.types.is_numeric_dtype(df[column]):\n",
        "        analysis_results[column] = {\n",
        "            'mean': df[column].mean(),\n",
        "            'min': df[column].min(),\n",
        "            'max': df[column].max()\n",
        "        }\n",
        "      else:\n",
        "        analysis_results[column] = \"Non-numeric data, cannot calculate statistics\"\n",
        "    return analysis_results\n",
        "  except FileNotFoundError:\n",
        "    return f\"Error: File not found at {file_path}\"\n",
        "  except Exception as e:\n",
        "    return f\"An error occurred: {e}\"\n",
        "\n",
        "# Replace '/content/lab2.csv' with the actual path to your CSV file\n",
        "file_path = '/content/lab2.csv'\n",
        "results = analyze_csv(file_path)\n",
        "\n",
        "# Display the results\n",
        "for column, stats in results.items():\n",
        "    print(f\"Column: {column}\")\n",
        "    if isinstance(stats, dict):\n",
        "        print(f\"  Mean: {stats['mean']:.2f}\")\n",
        "        print(f\"  Min: {stats['min']:.2f}\")\n",
        "        print(f\"  Max: {stats['max']:.2f}\")\n",
        "    else:\n",
        "        print(f\"  {stats}\")\n",
        "    print(\"-\" * 20)"
      ],
      "execution_count": 1,
      "outputs": [
        {
          "output_type": "stream",
          "name": "stdout",
          "text": [
            "Column: 12\n",
            "  Mean: 50.05\n",
            "  Min: 9.00\n",
            "  Max: 90.00\n",
            "--------------------\n"
          ]
        }
      ]
    }
  ]
}